{
 "cells": [
  {
   "cell_type": "code",
   "execution_count": 1,
   "id": "e3d043e7",
   "metadata": {},
   "outputs": [],
   "source": [
    "from SPARQLWrapper import SPARQLWrapper, JSON\n",
    "import matplotlib.pyplot as plt\n",
    "import datetime"
   ]
  },
  {
   "cell_type": "markdown",
   "id": "8aaea9cd",
   "metadata": {},
   "source": [
    "Function that sends a SPARQL query to the OfficeKG endpoint, that returns the bindings of the query."
   ]
  },
  {
   "cell_type": "code",
   "execution_count": 2,
   "id": "39b8eae4",
   "metadata": {},
   "outputs": [],
   "source": [
    "def query_ic_graph(query, bind):\n",
    "    if not isinstance(bind, list):\n",
    "        bind = [bind]\n",
    "    sparql = SPARQLWrapper(\n",
    "#         \"http://130.37.53.36:6789/sparql\"\n",
    "        \"https://data.interconnect.labs.vu.nl/sparql\"\n",
    "    )\n",
    "    sparql.setReturnFormat(JSON)\n",
    "\n",
    "    sparql.setQuery(query)\n",
    "\n",
    "    all_res = {}\n",
    "    try:\n",
    "        ret = sparql.queryAndConvert()\n",
    "    #     print(\"ret:\", ret)\n",
    "        for b in bind:\n",
    "            res = []\n",
    "            for r in ret[\"results\"][\"bindings\"]:\n",
    "    #             print(r[bind][\"value\"])\n",
    "                res.append(r[b][\"value\"])\n",
    "            all_res[b] = res\n",
    "    except Exception as e:\n",
    "        print(e)\n",
    "    if len(all_res.keys()) == 1:\n",
    "        return all_res[bind[0]]\n",
    "    return all_res"
   ]
  },
  {
   "cell_type": "markdown",
   "id": "4f2614fb",
   "metadata": {},
   "source": [
    "QUERY: Get all rooms and timestamps from devices measuring property x"
   ]
  },
  {
   "cell_type": "code",
   "execution_count": 3,
   "id": "640184e7",
   "metadata": {},
   "outputs": [],
   "source": [
    "q_get_all_room_time_for_property = \"\"\"\n",
    "    PREFIX rdf: <http://www.w3.org/1999/02/22-rdf-syntax-ns#>\n",
    "    PREFIX saref: <https://saref.etsi.org/core/>\n",
    "    PREFIX ic: <https://interconnectproject.eu/example/>\n",
    "    PREFIX s4bldg: <https://saref.etsi.org/saref4bldg/>\n",
    "\n",
    "SELECT DISTINCT ?room1 ?time1 WHERE {{\n",
    "  ?dev1 saref:measuresProperty ?pred1 .\n",
    "  ?pred1 a {} .\n",
    "  ?dev1 s4bldg:isContainedIn ?room1 .\n",
    "  ?dev1 saref:makesMeasurement ?meas1 .\n",
    "  ?meas1 saref:relatesToProperty ?pred1 .\n",
    "  ?meas1 saref:hasTimestamp ?time1 .\n",
    "}}\n",
    "\"\"\""
   ]
  },
  {
   "cell_type": "markdown",
   "id": "8821f8e9",
   "metadata": {},
   "source": [
    "create a dictionary where each key is a device_name, with another dict as item containing the values (\"val\") and timestamps (\"time\") of its measurements.\n",
    "\n",
    "Based on query results shaped \\[device_name, measurement_time, measurement_value\\]"
   ]
  },
  {
   "cell_type": "code",
   "execution_count": 4,
   "id": "40c4f3ef",
   "metadata": {},
   "outputs": [],
   "source": [
    "def make_dict_dev_val_time(query_results, dev_key=\"dev1\", val_key=\"val1\", time_key=\"time1\"):\n",
    "    dev_dict = {}\n",
    "    for dev, val, time in zip(query_results[dev_key], query_results[val_key], query_results[time_key]):\n",
    "#         print(dev, val, time)\n",
    "        val = float(val)\n",
    "        try:\n",
    "            dev_dict[dev][\"val\"].append(val)\n",
    "            dev_dict[dev][\"time\"].append(time)\n",
    "        except:\n",
    "            dev_dict[dev] = {}\n",
    "            dev_dict[dev][\"val\"] = [val]\n",
    "            dev_dict[dev][\"time\"] = [time]\n",
    "    return dev_dict"
   ]
  },
  {
   "cell_type": "code",
   "execution_count": 5,
   "id": "e08196fa",
   "metadata": {},
   "outputs": [],
   "source": [
    "def make_room_time_dict(query_results, room_key=\"room1\", time_key=\"time1\"):\n",
    "    room_dict = {}\n",
    "    for room, time in zip(query_results[room_key], query_results[time_key]):\n",
    "        try:\n",
    "            room_dict[room][\"time\"].append(time)\n",
    "        except:\n",
    "            room_dict[room] = {}\n",
    "            room_dict[room][\"time\"] = [time]\n",
    "    return room_dict"
   ]
  },
  {
   "cell_type": "markdown",
   "id": "356ca96e",
   "metadata": {},
   "source": [
    "helper functions for datetime objects"
   ]
  },
  {
   "cell_type": "code",
   "execution_count": 6,
   "id": "5b58627f",
   "metadata": {},
   "outputs": [],
   "source": [
    "def datetime_from_str(list_of_strings):\n",
    "    times = []\n",
    "    for t in list_of_strings:\n",
    "        times.append(datetime.datetime.strptime(t, '%Y-%m-%dT%H:%M:%S'))\n",
    "    return times\n",
    "\n",
    "def float_from_str(list_of_strings):\n",
    "    floats = []\n",
    "    for t in list_of_strings:\n",
    "        floats.append(float(t))\n",
    "    return floats"
   ]
  },
  {
   "cell_type": "markdown",
   "id": "3bccef81",
   "metadata": {},
   "source": [
    "variables and functions used when plotting the figures"
   ]
  },
  {
   "cell_type": "code",
   "execution_count": 7,
   "id": "2dd5bf22",
   "metadata": {},
   "outputs": [],
   "source": [
    "colors = ['tab:blue', 'tab:orange', 'tab:green', 'tab:red', 'tab:purple', 'tab:brown', 'tab:pink', 'tab:gray', 'tab:olive', 'tab:cyan']\n",
    "colors += ['b', 'g', 'r']\n",
    "max_temp = 36\n",
    "min_temp = 10\n",
    "                        \n",
    "delta_days = 1                        #IMPORTANT!!\n",
    "time_delta = datetime.timedelta(days=delta_days)\n",
    "\n",
    "def make_dev_color_dict(devs):\n",
    "    dev_c_dict = {}\n",
    "    if len(colors) < len(devs):\n",
    "        print(\"TOO FEW COLORS!!!\")\n",
    "        exit()\n",
    "    for dev, c in zip(devs, colors):\n",
    "        dev_c_dict[dev] = c\n",
    "    return dev_c_dict\n",
    "\n",
    "def unique_devices_in_room_dev_dict(rooms_dev_dict):\n",
    "    all_devices = []\n",
    "    for room_key in rooms_dev_dict.keys():\n",
    "#        print(room_key)\n",
    "        for time_key in rooms_dev_dict[room_key].keys():\n",
    "            for dev_key in rooms_dev_dict[room_key][time_key].keys():\n",
    "#                print(dev_key)\n",
    "                all_devices.append(dev_key)\n",
    "    all_devices = list(set(all_devices))\n",
    "    print(\"this dict contains\", len(all_devices), \"unique devices.\")\n",
    "    return all_devices\n"
   ]
  },
  {
   "cell_type": "markdown",
   "id": "cb87b221",
   "metadata": {},
   "source": [
    "QUERY: For a given: device_name, property and time range, return all measurements about the given property made in the same room as the device_name, within a time range"
   ]
  },
  {
   "cell_type": "code",
   "execution_count": 8,
   "id": "992f16eb",
   "metadata": {},
   "outputs": [],
   "source": [
    "q_get_meas_of_prop_on_room_around_time = \"\"\"\n",
    " PREFIX rdf: <http://www.w3.org/1999/02/22-rdf-syntax-ns#>\n",
    " PREFIX rdfs: <http://www.w3.org/2000/01/rdf-schema#>\n",
    " PREFIX s4ener: <https://saref.etsi.org/saref4ener/>\n",
    " PREFIX s4bldg: <https://saref.etsi.org/saref4bldg/>\n",
    " PREFIX saref: <https://saref.etsi.org/core/>\n",
    " PREFIX ic: <https://interconnectproject.eu/example/>\n",
    "\n",
    " SELECT DISTINCT ?dev ?time ?val WHERE {{\n",
    "  ?dev s4bldg:isContainedIn <{}> .\n",
    "  ?dev saref:measuresProperty ?pred .\n",
    "  ?pred a {} .\n",
    "  ?dev saref:makesMeasurement ?meas .\n",
    "  ?meas saref:relatesToProperty ?pred .\n",
    "  ?meas saref:hasTimestamp ?time .\n",
    "  ?meas saref:hasValue ?val .\n",
    "  FILTER ( ?time >= '{}'^^xsd:dateTime && ?time <= '{}'^^xsd:dateTime )  \n",
    "}}\n",
    "\"\"\""
   ]
  },
  {
   "cell_type": "markdown",
   "id": "26d84d19",
   "metadata": {},
   "source": [
    "### Visualization of the Data"
   ]
  },
  {
   "cell_type": "markdown",
   "id": "63d02e82",
   "metadata": {},
   "source": [
    "Query for thermostat rooms and times (returning rooms, measurement_time)"
   ]
  },
  {
   "cell_type": "code",
   "execution_count": 9,
   "id": "53af11d0",
   "metadata": {},
   "outputs": [],
   "source": [
    "all_thermos_room_times = query_ic_graph(q_get_all_room_time_for_property.format(\"ic:thermostatHeatingSetpoint\"), [\"room1\", \"time1\"])\n"
   ]
  },
  {
   "cell_type": "code",
   "execution_count": 10,
   "id": "e15b7f1c",
   "metadata": {},
   "outputs": [],
   "source": [
    "thermos_room_dict = make_room_time_dict(all_thermos_room_times, \"room1\", \"time1\")"
   ]
  },
  {
   "cell_type": "code",
   "execution_count": 11,
   "id": "f973d68f",
   "metadata": {},
   "outputs": [],
   "source": [
    "def query_for_meas_on_room_prop(room_time_dict, property_type):\n",
    "    rooms_all_meas_dict = {}\n",
    "    room_keys = list(room_time_dict.keys())\n",
    "    for room_key in room_keys:\n",
    "        all_meas = {}\n",
    "        print(\"Starting on room:\", room_key[-10:])\n",
    "        times = datetime_from_str(room_time_dict[room_key][\"time\"])\n",
    "        for time in times:\n",
    "            time_start = time - time_delta\n",
    "            time_stop = time + time_delta\n",
    "            time_start = time_start.strftime('%Y-%m-%dT%H:%M:%S')\n",
    "            time_stop = time_stop.strftime('%Y-%m-%dT%H:%M:%S')\n",
    "            query_result = query_ic_graph(q_get_meas_of_prop_on_room_around_time.format(room_key, property_type, time_start, time_stop), [\"dev\", \"time\", \"val\"])\n",
    "            #print(query_result)\n",
    "            all_meas[time] = make_dict_dev_val_time(query_result, dev_key=\"dev\", val_key=\"val\", time_key=\"time\")\n",
    "        rooms_all_meas_dict[room_key] = all_meas\n",
    "    return rooms_all_meas_dict\n"
   ]
  },
  {
   "cell_type": "code",
   "execution_count": null,
   "id": "dacc89be",
   "metadata": {
    "scrolled": true
   },
   "outputs": [],
   "source": [
    "rooms_all_contact_dict = query_for_meas_on_room_prop(thermos_room_dict, \"ic:Contact\")"
   ]
  },
  {
   "cell_type": "code",
   "execution_count": null,
   "id": "5b1b6003",
   "metadata": {
    "scrolled": true
   },
   "outputs": [],
   "source": [
    "rooms_all_thermos_dict = query_for_meas_on_room_prop(thermos_room_dict, \"ic:thermostatHeatingSetpoint\")"
   ]
  },
  {
   "cell_type": "code",
   "execution_count": 14,
   "id": "d598121b",
   "metadata": {
    "collapsed": true
   },
   "outputs": [
    {
     "name": "stdout",
     "output_type": "stream",
     "text": [
      "Starting on room: c9067a220f\n",
      "Starting on room: name_3.009\n",
      "Starting on room: -F3-04-T41\n",
      "Starting on room: 0190046a12\n",
      "Starting on room: 53e4b23e32\n",
      "Starting on room: -WEST-T-39\n",
      "Starting on room: mname_3.01\n",
      "Starting on room: -F3-04-T42\n",
      "Starting on room: -WEST-T-38\n",
      "Starting on room: 54b2c3ab77\n",
      "Starting on room: name_7.022\n",
      "Starting on room: F7-O3-T18a\n",
      "Starting on room: be86f38a4b\n",
      "Starting on room: -F6-O4-T52\n",
      "Starting on room: -OOST-T-20\n",
      "Starting on room: d9c481c9fe\n",
      "Starting on room: mname_3.02\n",
      "Starting on room: -F3-O3-T11\n"
     ]
    }
   ],
   "source": [
    "rooms_all_temps_dict = query_for_meas_on_room_prop(thermos_room_dict, \"saref:Temperature\")"
   ]
  },
  {
   "cell_type": "code",
   "execution_count": 18,
   "id": "476fce11",
   "metadata": {},
   "outputs": [
    {
     "name": "stdout",
     "output_type": "stream",
     "text": [
      "this dict contains 13 unique devices.\n",
      "this dict contains 11 unique devices.\n"
     ]
    }
   ],
   "source": [
    "all_contact_devices = unique_devices_in_room_dev_dict(rooms_all_contact_dict)\n",
    "contact_color_dict = make_dev_color_dict(all_contact_devices)\n",
    "\n",
    "all_thermos_devices = unique_devices_in_room_dev_dict(rooms_all_thermos_dict)\n",
    "thermos_color_dict = make_dev_color_dict(all_thermos_devices)\n"
   ]
  },
  {
   "cell_type": "code",
   "execution_count": 19,
   "id": "0c3be68d",
   "metadata": {},
   "outputs": [],
   "source": [
    "def add_meas_state(dev_dict, lines=None, color_dict=[], lines_str=\"\"):\n",
    "    for dev_key in dev_dict.keys():\n",
    "        if lines != None:\n",
    "            lines.append(dev_key.replace(\"https://interconnectproject.eu/example/\", \"ic:\")+lines_str)\n",
    "        vals = dev_dict[dev_key][\"val\"]\n",
    "        times = dev_dict[dev_key][\"time\"]\n",
    "        times = datetime_from_str(times)\n",
    "        if not color_dict == []: use_color = color_dict[dev_key]\n",
    "        else: use_color = \"tab:blue\"\n",
    "        for t, v in zip(times, vals):\n",
    "            if v == 1:\n",
    "                plt.plot([t,t], [((max_temp+min_temp)*(7/16)), max_temp], marker='v', c=color_dict[dev_key], zorder=10)\n",
    "            else:\n",
    "                plt.plot([t,t], [min_temp, ((max_temp+min_temp)*(9/16))], marker='^', c=color_dict[dev_key], zorder=10)\n",
    "    return lines\n",
    "                \n",
    "def add_meas_scatter(dev_dict, lines=None, color_dict=[], lines_str=\"\"):\n",
    "    for dev_key in dev_dict.keys():\n",
    "        if lines != None:\n",
    "            lines.append(dev_key.replace(\"https://interconnectproject.eu/example/\", \"ic:\")+lines_str)\n",
    "        if not color_dict == []: use_color = color_dict[dev_key]\n",
    "        else: use_color = \"tab:green\"\n",
    "        vals = dev_dict[dev_key][\"val\"]\n",
    "        times = dev_dict[dev_key][\"time\"]\n",
    "        times = datetime_from_str(times)\n",
    "        plt.scatter(times, vals, c=use_color, s=50, zorder=100)\n",
    "    return lines\n",
    "        \n",
    "def add_meas_line(dev_dict, lines=None, color_dict=[], lines_str=\"\"):\n",
    "    for dev_key in dev_dict.keys():\n",
    "        if lines != None:\n",
    "            lines.append(dev_key.replace(\"https://interconnectproject.eu/example/\", \"ic:\")+lines_str)\n",
    "        if not color_dict == []: use_color = color_dict[dev_key]\n",
    "        else: use_color = \"gainsboro\"\n",
    "        vals = dev_dict[dev_key][\"val\"]\n",
    "        times = dev_dict[dev_key][\"time\"]\n",
    "        vals = [x for _, x in sorted(zip(times, vals))]\n",
    "        times = sorted(times)\n",
    "        times = datetime_from_str(times)\n",
    "        plt.plot(times, vals, c=use_color, zorder=1)\n",
    "    return lines"
   ]
  },
  {
   "cell_type": "code",
   "execution_count": 20,
   "id": "635d5c86",
   "metadata": {},
   "outputs": [
    {
     "name": "stdout",
     "output_type": "stream",
     "text": [
      "https://interconnectproject.eu/example/room_urn-Room-SmartThings-ed73d598-b9ed-4448-9ece-e553e4b23e32\n"
     ]
    },
    {
     "data": {
      "image/png": "[encoded data removed]",
      "text/plain": [
       "<Figure size 432x288 with 1 Axes>"
      ]
     },
     "metadata": {
      "needs_background": "light"
     },
     "output_type": "display_data"
    }
   ],
   "source": [
    "legend_lines = []\n",
    "only1 = [\"https://interconnectproject.eu/example/room_urn-Room-SmartThings-ed73d598-b9ed-4448-9ece-e553e4b23e32\"]\n",
    "# for room_key in thermos_room_dict.keys():\n",
    "for room_key in only1:\n",
    "    print(room_key)\n",
    "    i = 0\n",
    "    for time_key in thermos_room_dict[room_key][\"time\"]:\n",
    "        i+= 1\n",
    "        if i < 13:\n",
    "            continue\n",
    "        elif i >13:\n",
    "            continue\n",
    "        time_key = datetime.datetime.strptime(time_key, '%Y-%m-%dT%H:%M:%S')\n",
    "        if len(rooms_all_contact_dict[room_key][time_key].keys()) == 0: continue\n",
    "        if len(rooms_all_thermos_dict[room_key][time_key].keys()) == 0: continue\n",
    "        if len(rooms_all_temps_dict[room_key][time_key].keys()) == 0: continue\n",
    "        legend_lines = add_meas_line(rooms_all_temps_dict[room_key][time_key], legend_lines, lines_str=\"_Temperature\")\n",
    "        legend_lines = add_meas_state(rooms_all_contact_dict[room_key][time_key], legend_lines, contact_color_dict, lines_str=\"_Contact\")\n",
    "        legend_lines = add_meas_scatter(rooms_all_thermos_dict[room_key][time_key], legend_lines, thermos_color_dict, lines_str=\"_Thermostat\")\n",
    "        plt.xticks( rotation=25 )\n",
    "        start_time = time_key-datetime.timedelta(hours=time_key.hour, minutes=time_key.minute, seconds=time_key.second)\n",
    "        end_time = start_time+datetime.timedelta(hours=24)\n",
    "        plt.xlim(start_time, end_time)\n",
    "        plt.ylim(min_temp, max_temp)\n",
    "        plt.ylabel(\"Temperature in Degrees Celsius\")\n",
    "        plt.xlabel(\"Time\")\n",
    "#         plt.legend(legend_lines, bbox_to_anchor=(1, 0.5))\n",
    "#         plt.show()\n",
    "        plt.savefig('windows.eps', format='eps', bbox_inches=\"tight\")"
   ]
  },
  {
   "cell_type": "markdown",
   "id": "890696b7",
   "metadata": {},
   "source": [
    "## Thermostat turned down within 30 minutes after window opening:"
   ]
  },
  {
   "cell_type": "code",
   "execution_count": 21,
   "id": "b450a378",
   "metadata": {},
   "outputs": [],
   "source": [
    "minutes_delta = datetime.timedelta(minutes=30)\n"
   ]
  },
  {
   "cell_type": "code",
   "execution_count": 22,
   "id": "23d7886e",
   "metadata": {},
   "outputs": [],
   "source": [
    "def query_for_meas_on_room_prop_time_before(room_time_dict, property_type, minutes_delta):\n",
    "    rooms_all_meas_dict = {}\n",
    "    room_keys = list(room_time_dict.keys())\n",
    "    for room_key in room_keys:\n",
    "        all_meas = {}\n",
    "        print(\"Starting on room:\", room_key[-10:])\n",
    "        times = datetime_from_str(room_time_dict[room_key][\"time\"])\n",
    "        for time in times:\n",
    "            time_start = time - minutes_delta\n",
    "            time_stop = time\n",
    "            time_start = time_start.strftime('%Y-%m-%dT%H:%M:%S')\n",
    "            time_stop = time_stop.strftime('%Y-%m-%dT%H:%M:%S')\n",
    "            query_result = query_ic_graph(q_get_meas_of_prop_on_room_around_time.format(room_key, property_type, time_start, time_stop), [\"dev\", \"time\", \"val\"])\n",
    "            #print(query_result)\n",
    "            all_meas[time] = make_dict_dev_val_time(query_result, dev_key=\"dev\", val_key=\"val\", time_key=\"time\")\n",
    "        rooms_all_meas_dict[room_key] = all_meas\n",
    "    return rooms_all_meas_dict"
   ]
  },
  {
   "cell_type": "code",
   "execution_count": 23,
   "id": "33418998",
   "metadata": {},
   "outputs": [
    {
     "name": "stdout",
     "output_type": "stream",
     "text": [
      "Starting on room: c9067a220f\n",
      "Starting on room: name_3.009\n",
      "Starting on room: -F3-04-T41\n",
      "Starting on room: 0190046a12\n",
      "Starting on room: 53e4b23e32\n",
      "Starting on room: -WEST-T-39\n",
      "Starting on room: mname_3.01\n",
      "Starting on room: -F3-04-T42\n",
      "Starting on room: -WEST-T-38\n",
      "Starting on room: 54b2c3ab77\n",
      "Starting on room: name_7.022\n",
      "Starting on room: F7-O3-T18a\n",
      "Starting on room: be86f38a4b\n",
      "Starting on room: -F6-O4-T52\n",
      "Starting on room: -OOST-T-20\n",
      "Starting on room: d9c481c9fe\n",
      "Starting on room: mname_3.02\n",
      "Starting on room: -F3-O3-T11\n"
     ]
    }
   ],
   "source": [
    "rooms_all_contact_dict = query_for_meas_on_room_prop_time_before(thermos_room_dict, \"ic:Contact\", minutes_delta)"
   ]
  },
  {
   "cell_type": "code",
   "execution_count": 24,
   "id": "bc947f87",
   "metadata": {
    "scrolled": true
   },
   "outputs": [
    {
     "name": "stdout",
     "output_type": "stream",
     "text": [
      "Starting on room: c9067a220f\n",
      "Starting on room: name_3.009\n",
      "Starting on room: -F3-04-T41\n",
      "Starting on room: 0190046a12\n",
      "Starting on room: 53e4b23e32\n",
      "Starting on room: -WEST-T-39\n",
      "Starting on room: mname_3.01\n",
      "Starting on room: -F3-04-T42\n",
      "Starting on room: -WEST-T-38\n",
      "Starting on room: 54b2c3ab77\n",
      "Starting on room: name_7.022\n",
      "Starting on room: F7-O3-T18a\n",
      "Starting on room: be86f38a4b\n",
      "Starting on room: -F6-O4-T52\n",
      "Starting on room: -OOST-T-20\n",
      "Starting on room: d9c481c9fe\n",
      "Starting on room: mname_3.02\n",
      "Starting on room: -F3-O3-T11\n"
     ]
    }
   ],
   "source": [
    "rooms_all_thermos_dict = query_for_meas_on_room_prop_time_before(thermos_room_dict, \"ic:thermostatHeatingSetpoint\", minutes_delta)\n"
   ]
  },
  {
   "cell_type": "code",
   "execution_count": 25,
   "id": "57879121",
   "metadata": {
    "scrolled": true
   },
   "outputs": [
    {
     "name": "stdout",
     "output_type": "stream",
     "text": [
      "Starting on room: c9067a220f\n",
      "Starting on room: name_3.009\n",
      "Starting on room: -F3-04-T41\n",
      "Starting on room: 0190046a12\n",
      "Starting on room: 53e4b23e32\n",
      "Starting on room: -WEST-T-39\n",
      "Starting on room: mname_3.01\n",
      "Starting on room: -F3-04-T42\n",
      "Starting on room: -WEST-T-38\n",
      "Starting on room: 54b2c3ab77\n",
      "Starting on room: name_7.022\n",
      "Starting on room: F7-O3-T18a\n",
      "Starting on room: be86f38a4b\n",
      "Starting on room: -F6-O4-T52\n",
      "Starting on room: -OOST-T-20\n",
      "Starting on room: d9c481c9fe\n",
      "Starting on room: mname_3.02\n",
      "Starting on room: -F3-O3-T11\n"
     ]
    }
   ],
   "source": [
    "rooms_all_temps_dict = query_for_meas_on_room_prop_time_before(thermos_room_dict, \"saref:Temperature\", minutes_delta)"
   ]
  },
  {
   "cell_type": "code",
   "execution_count": 26,
   "id": "261047d8",
   "metadata": {},
   "outputs": [
    {
     "name": "stdout",
     "output_type": "stream",
     "text": [
      "https://interconnectproject.eu/example/room_urn-Room-SmartThings-4e9497bb-5174-43cb-82b5-5fc9067a220f\n",
      "https://interconnectproject.eu/example/roomname_3.009\n",
      "https://interconnectproject.eu/example/zone_VL-F3-04-T41\n",
      "https://interconnectproject.eu/example/room_urn-Room-SmartThings-9bdc8aaa-ef05-4bf6-9b97-8e0190046a12\n",
      "https://interconnectproject.eu/example/room_urn-Room-SmartThings-ed73d598-b9ed-4448-9ece-e553e4b23e32\n",
      "https://interconnectproject.eu/example/zone_VL-F5-WEST-T-39\n",
      "https://interconnectproject.eu/example/roomname_3.01\n",
      "https://interconnectproject.eu/example/zone_VL-F3-04-T42\n",
      "https://interconnectproject.eu/example/zone_VL-F5-WEST-T-38\n",
      "https://interconnectproject.eu/example/room_urn-Room-SmartThings-33dcb28e-3aaa-4737-bfbe-c054b2c3ab77\n",
      "https://interconnectproject.eu/example/roomname_7.022\n",
      "https://interconnectproject.eu/example/zone_VL-F7-O3-T18a\n",
      "https://interconnectproject.eu/example/room_urn-Room-SmartThings-d84929fa-b572-4fb2-aa8e-c8be86f38a4b\n",
      "https://interconnectproject.eu/example/zone_VL-F6-O4-T52\n",
      "https://interconnectproject.eu/example/zone_VL-F5-OOST-T-20\n",
      "https://interconnectproject.eu/example/room_urn-Room-SmartThings-9022bdab-e505-4d8d-89b4-1ed9c481c9fe\n",
      "https://interconnectproject.eu/example/roomname_3.02\n",
      "https://interconnectproject.eu/example/zone_VL-F3-O3-T11\n"
     ]
    }
   ],
   "source": [
    "legend_lines = []\n",
    "only1 = [\"https://interconnectproject.eu/example/room_urn-Room-SmartThings-ed73d598-b9ed-4448-9ece-e553e4b23e32\"]\n",
    "for room_key in thermos_room_dict.keys():\n",
    "    print(room_key)\n",
    "    i = 0\n",
    "    for time_key in thermos_room_dict[room_key][\"time\"]:\n",
    "        i+= 1\n",
    "        if i < 13:\n",
    "            continue\n",
    "        elif i >13:\n",
    "            continue\n",
    "        time_key = datetime.datetime.strptime(time_key, '%Y-%m-%dT%H:%M:%S')\n",
    "#         print(len(rooms_all_contact_dict[room_key][time_key].keys()), len(rooms_all_thermos_dict[room_key][time_key].keys()), len(rooms_all_temps_dict[room_key][time_key].keys()))\n",
    "        if len(rooms_all_contact_dict[room_key][time_key].keys()) == 0: continue\n",
    "        if len(rooms_all_thermos_dict[room_key][time_key].keys()) == 0: continue\n",
    "        if len(rooms_all_temps_dict[room_key][time_key].keys()) == 0: continue\n",
    "        print(\"Found the situation!\")\n",
    "        legend_lines = add_meas_line(rooms_all_temps_dict[room_key][time_key], legend_lines, lines_str=\"_Temperature\")\n",
    "        legend_lines = add_meas_state(rooms_all_contact_dict[room_key][time_key], legend_lines, contact_color_dict, lines_str=\"_Contact\")\n",
    "        legend_lines = add_meas_scatter(rooms_all_thermos_dict[room_key][time_key], legend_lines, thermos_color_dict, lines_str=\"_Thermostat\")\n",
    "        plt.xticks( rotation=25 )\n",
    "        start_time = time_key-datetime.timedelta(hours=time_key.hour, minutes=time_key.minute, seconds=time_key.second)\n",
    "        end_time = start_time+datetime.timedelta(hours=24)\n",
    "        plt.xlim(start_time, end_time)\n",
    "        plt.ylim(min_temp, max_temp)\n",
    "        plt.ylabel(\"Temperature in Degrees Celsius\")\n",
    "        plt.xlabel(\"Time\")\n",
    "        plt.show()\n"
   ]
  },
  {
   "cell_type": "markdown",
   "id": "b105a26c",
   "metadata": {},
   "source": [
    "The situation of the thermostat being adjusted after a window was opened or closed in that same room never occurred. "
   ]
  },
  {
   "cell_type": "code",
   "execution_count": null,
   "id": "6ac04eae",
   "metadata": {},
   "outputs": [],
   "source": []
  }
 ],
 "metadata": {
  "kernelspec": {
   "display_name": "Python 3 (ipykernel)",
   "language": "python",
   "name": "python3"
  },
  "language_info": {
   "codemirror_mode": {
    "name": "ipython",
    "version": 3
   },
   "file_extension": ".py",
   "mimetype": "text/x-python",
   "name": "python",
   "nbconvert_exporter": "python",
   "pygments_lexer": "ipython3",
   "version": "3.9.6"
  }
 },
 "nbformat": 4,
 "nbformat_minor": 5
}
